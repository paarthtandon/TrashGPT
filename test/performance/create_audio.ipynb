{
 "cells": [
  {
   "cell_type": "code",
   "execution_count": 10,
   "metadata": {},
   "outputs": [
    {
     "data": {
      "text/plain": [
       "[{'speaker': 'connor',\n",
       "  'line': \"cause we're just gonna go ham. And we're like, what if we do this again? What if we, what if we just do this again and then we just do it\"},\n",
       " {'speaker': 'joey',\n",
       "  'line': \"and then we're just gonna get more people to do it. - Yeah. - And then you know\"},\n",
       " {'speaker': 'connor',\n",
       "  'line': \"it's in its prime and it's just gonna continue to grow. But I think the thing that really, really blew me away about Trash Taste was just how much the Trash Taste\"},\n",
       " {'speaker': 'garnt', 'line': 'have grown over the years, right.'},\n",
       " {'speaker': 'joey',\n",
       "  'line': \"- I'm not gonna lie, I've never thought about it in terms of like Trash Taste like that because it's-\"},\n",
       " {'speaker': 'garnt',\n",
       "  'line': \"- It's literally just a show for people who don't watch anime and don't watch Trash Taste. - Exactly, exactly. - It's basically just a show where we talk about anime with people who don't watch anime.\"}]"
      ]
     },
     "execution_count": 10,
     "metadata": {},
     "output_type": "execute_result"
    }
   ],
   "source": [
    "import re\n",
    "\n",
    "def convert_to_dicts(block):\n",
    "    # Regular expression pattern\n",
    "    pattern = r'<(.*?)>(.*?)</\\1>'\n",
    "    \n",
    "    # Find all matches in the block\n",
    "    matches = re.findall(pattern, block, re.DOTALL)\n",
    "    \n",
    "    result = []\n",
    "    current_speaker = None\n",
    "    current_lines = []\n",
    "\n",
    "    for speaker, line in matches:\n",
    "        line = line.strip().replace('\\n', ' ').replace('\"', '')\n",
    "        if speaker == current_speaker:\n",
    "            current_lines.append(line)\n",
    "        else:\n",
    "            if current_speaker is not None:\n",
    "                result.append({'speaker': current_speaker, 'line': ' '.join(current_lines)})\n",
    "            current_speaker = speaker\n",
    "            current_lines = [line]\n",
    "    \n",
    "    # Add the last speaker's lines to the result\n",
    "    if current_speaker is not None:\n",
    "        result.append({'speaker': current_speaker, 'line': ' '.join(current_lines)})\n",
    "\n",
    "    return result\n",
    "\n",
    "\n",
    "# Input block\n",
    "block = \"\"\"\n",
    "<connor> cause we're just gonna go ham. </connor>\n",
    "<connor> And we're like, what if we\n",
    "do this again? What if we, </connor>\n",
    "<connor> what if we just do this\n",
    "again and then we just do it </connor>\n",
    "<joey> and then we're just gonna\n",
    "get more people to do it. </joey>\n",
    "<joey> - Yeah.\n",
    "- And then you know </joey>\n",
    "<connor> it's in its prime and it's\n",
    "just gonna continue to grow. </connor>\n",
    "<connor> But I think the thing that\n",
    "really, really blew me away </connor>\n",
    "<connor> about \"Trash Taste\" was\n",
    "just how much the \"Trash Taste\" </connor>\n",
    "<garnt> have grown over the years, right. </garnt>\n",
    "<joey> - I'm not gonna lie, I've\n",
    "never thought about it </joey>\n",
    "<joey> in terms of like \"Trash Taste\"\n",
    "like that because it's- </joey>\n",
    "<garnt> - It's literally just a\n",
    "show for people who don't watch </garnt>\n",
    "<garnt> anime and don't watch \"Trash Taste.\" </garnt>\n",
    "<garnt> - Exactly, exactly. </garnt>\n",
    "<garnt> - It's basically just a show\n",
    "where we talk about anime </garnt>\n",
    "<garnt> with people who don't watch anime. </garnt>\n",
    "\"\"\"\n",
    "\n",
    "result = convert_to_dicts(block)\n",
    "result"
   ]
  },
  {
   "cell_type": "code",
   "execution_count": 11,
   "metadata": {},
   "outputs": [
    {
     "name": "stdout",
     "output_type": "stream",
     "text": [
      "python ../../../tortoise-tts/tortoise/do_tts.py --text \"cause we're just gonna go ham. And we're like, what if we do this again? What if we, what if we just do this again and then we just do it\" --voice \"connor\" --output_path \"results/0/\" --preset \"fast\"\n",
      "python ../../../tortoise-tts/tortoise/do_tts.py --text \"and then we're just gonna get more people to do it. - Yeah. - And then you know\" --voice \"joey\" --output_path \"results/1/\" --preset \"fast\"\n",
      "python ../../../tortoise-tts/tortoise/do_tts.py --text \"it's in its prime and it's just gonna continue to grow. But I think the thing that really, really blew me away about Trash Taste was just how much the Trash Taste\" --voice \"connor\" --output_path \"results/2/\" --preset \"fast\"\n",
      "python ../../../tortoise-tts/tortoise/do_tts.py --text \"have grown over the years, right.\" --voice \"garnt\" --output_path \"results/3/\" --preset \"fast\"\n",
      "python ../../../tortoise-tts/tortoise/do_tts.py --text \"- I'm not gonna lie, I've never thought about it in terms of like Trash Taste like that because it's-\" --voice \"joey\" --output_path \"results/4/\" --preset \"fast\"\n",
      "python ../../../tortoise-tts/tortoise/do_tts.py --text \"- It's literally just a show for people who don't watch anime and don't watch Trash Taste. - Exactly, exactly. - It's basically just a show where we talk about anime with people who don't watch anime.\" --voice \"garnt\" --output_path \"results/5/\" --preset \"fast\"\n"
     ]
    }
   ],
   "source": [
    "for i, l in enumerate(result):\n",
    "    speaker = l['speaker']\n",
    "    line = l['line']\n",
    "    to_run = f'python ../../../tortoise-tts/tortoise/do_tts.py --text \"{line}\" --voice \"{speaker}\" --output_path \"results/{i}/\" --preset \"fast\"'\n",
    "    print(to_run)"
   ]
  }
 ],
 "metadata": {
  "kernelspec": {
   "display_name": "Python 3",
   "language": "python",
   "name": "python3"
  },
  "language_info": {
   "codemirror_mode": {
    "name": "ipython",
    "version": 3
   },
   "file_extension": ".py",
   "mimetype": "text/x-python",
   "name": "python",
   "nbconvert_exporter": "python",
   "pygments_lexer": "ipython3",
   "version": "3.10.11"
  },
  "orig_nbformat": 4
 },
 "nbformat": 4,
 "nbformat_minor": 2
}
