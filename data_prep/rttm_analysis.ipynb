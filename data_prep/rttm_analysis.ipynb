{
 "cells": [
  {
   "cell_type": "code",
   "execution_count": 8,
   "metadata": {},
   "outputs": [],
   "source": [
    "import pandas as pd\n",
    "from matplotlib import pyplot as plt\n",
    "import os\n",
    "\n",
    "rttm_dir = '../data/rttm/'\n",
    "rttm_header = ['Type', 'File ID', 'Channel ID', 'start_ms', 'duration_ms', 'Orthography Field', 'Speaker Type', 'Speaker Name', 'Confidence Score', 'Signal Lookahead Time']"
   ]
  },
  {
   "cell_type": "code",
   "execution_count": 9,
   "metadata": {},
   "outputs": [
    {
     "data": {
      "text/html": [
       "<div>\n",
       "<style scoped>\n",
       "    .dataframe tbody tr th:only-of-type {\n",
       "        vertical-align: middle;\n",
       "    }\n",
       "\n",
       "    .dataframe tbody tr th {\n",
       "        vertical-align: top;\n",
       "    }\n",
       "\n",
       "    .dataframe thead th {\n",
       "        text-align: right;\n",
       "    }\n",
       "</style>\n",
       "<table border=\"1\" class=\"dataframe\">\n",
       "  <thead>\n",
       "    <tr style=\"text-align: right;\">\n",
       "      <th></th>\n",
       "      <th>File ID</th>\n",
       "      <th>start_ms</th>\n",
       "      <th>duration_ms</th>\n",
       "      <th>Speaker Name</th>\n",
       "    </tr>\n",
       "  </thead>\n",
       "  <tbody>\n",
       "    <tr>\n",
       "      <th>0</th>\n",
       "      <td>Animals_We_Could_Beat_in_a_Fight__Trash_Taste_...</td>\n",
       "      <td>8.0</td>\n",
       "      <td>985.0</td>\n",
       "      <td>SPEAKER_00</td>\n",
       "    </tr>\n",
       "    <tr>\n",
       "      <th>1</th>\n",
       "      <td>Animals_We_Could_Beat_in_a_Fight__Trash_Taste_...</td>\n",
       "      <td>1078.0</td>\n",
       "      <td>1986.0</td>\n",
       "      <td>SPEAKER_00</td>\n",
       "    </tr>\n",
       "    <tr>\n",
       "      <th>2</th>\n",
       "      <td>Animals_We_Could_Beat_in_a_Fight__Trash_Taste_...</td>\n",
       "      <td>3200.0</td>\n",
       "      <td>3684.0</td>\n",
       "      <td>SPEAKER_00</td>\n",
       "    </tr>\n",
       "    <tr>\n",
       "      <th>3</th>\n",
       "      <td>Animals_We_Could_Beat_in_a_Fight__Trash_Taste_...</td>\n",
       "      <td>5764.0</td>\n",
       "      <td>1053.0</td>\n",
       "      <td>SPEAKER_01</td>\n",
       "    </tr>\n",
       "    <tr>\n",
       "      <th>4</th>\n",
       "      <td>Animals_We_Could_Beat_in_a_Fight__Trash_Taste_...</td>\n",
       "      <td>6885.0</td>\n",
       "      <td>187.0</td>\n",
       "      <td>SPEAKER_01</td>\n",
       "    </tr>\n",
       "    <tr>\n",
       "      <th>...</th>\n",
       "      <td>...</td>\n",
       "      <td>...</td>\n",
       "      <td>...</td>\n",
       "      <td>...</td>\n",
       "    </tr>\n",
       "    <tr>\n",
       "      <th>2304</th>\n",
       "      <td>What_Anime_Conventions_DONT_Tell_You__Trash_Ta...</td>\n",
       "      <td>6885781.0</td>\n",
       "      <td>12971.0</td>\n",
       "      <td>SPEAKER_01</td>\n",
       "    </tr>\n",
       "    <tr>\n",
       "      <th>2305</th>\n",
       "      <td>What_Anime_Conventions_DONT_Tell_You__Trash_Ta...</td>\n",
       "      <td>6887598.0</td>\n",
       "      <td>713.0</td>\n",
       "      <td>SPEAKER_00</td>\n",
       "    </tr>\n",
       "    <tr>\n",
       "      <th>2306</th>\n",
       "      <td>What_Anime_Conventions_DONT_Tell_You__Trash_Ta...</td>\n",
       "      <td>6895730.0</td>\n",
       "      <td>272.0</td>\n",
       "      <td>SPEAKER_02</td>\n",
       "    </tr>\n",
       "    <tr>\n",
       "      <th>2307</th>\n",
       "      <td>What_Anime_Conventions_DONT_Tell_You__Trash_Ta...</td>\n",
       "      <td>6897954.0</td>\n",
       "      <td>153.0</td>\n",
       "      <td>SPEAKER_00</td>\n",
       "    </tr>\n",
       "    <tr>\n",
       "      <th>2308</th>\n",
       "      <td>What_Anime_Conventions_DONT_Tell_You__Trash_Ta...</td>\n",
       "      <td>6898124.0</td>\n",
       "      <td>475.0</td>\n",
       "      <td>SPEAKER_00</td>\n",
       "    </tr>\n",
       "  </tbody>\n",
       "</table>\n",
       "<p>322195 rows × 4 columns</p>\n",
       "</div>"
      ],
      "text/plain": [
       "                                                File ID   start_ms  \\\n",
       "0     Animals_We_Could_Beat_in_a_Fight__Trash_Taste_...        8.0   \n",
       "1     Animals_We_Could_Beat_in_a_Fight__Trash_Taste_...     1078.0   \n",
       "2     Animals_We_Could_Beat_in_a_Fight__Trash_Taste_...     3200.0   \n",
       "3     Animals_We_Could_Beat_in_a_Fight__Trash_Taste_...     5764.0   \n",
       "4     Animals_We_Could_Beat_in_a_Fight__Trash_Taste_...     6885.0   \n",
       "...                                                 ...        ...   \n",
       "2304  What_Anime_Conventions_DONT_Tell_You__Trash_Ta...  6885781.0   \n",
       "2305  What_Anime_Conventions_DONT_Tell_You__Trash_Ta...  6887598.0   \n",
       "2306  What_Anime_Conventions_DONT_Tell_You__Trash_Ta...  6895730.0   \n",
       "2307  What_Anime_Conventions_DONT_Tell_You__Trash_Ta...  6897954.0   \n",
       "2308  What_Anime_Conventions_DONT_Tell_You__Trash_Ta...  6898124.0   \n",
       "\n",
       "      duration_ms Speaker Name  \n",
       "0           985.0   SPEAKER_00  \n",
       "1          1986.0   SPEAKER_00  \n",
       "2          3684.0   SPEAKER_00  \n",
       "3          1053.0   SPEAKER_01  \n",
       "4           187.0   SPEAKER_01  \n",
       "...           ...          ...  \n",
       "2304      12971.0   SPEAKER_01  \n",
       "2305        713.0   SPEAKER_00  \n",
       "2306        272.0   SPEAKER_02  \n",
       "2307        153.0   SPEAKER_00  \n",
       "2308        475.0   SPEAKER_00  \n",
       "\n",
       "[322195 rows x 4 columns]"
      ]
     },
     "execution_count": 9,
     "metadata": {},
     "output_type": "execute_result"
    }
   ],
   "source": [
    "rttm_fns = os.listdir(rttm_dir)\n",
    "rttm = pd.DataFrame()\n",
    "for fn in rttm_fns:\n",
    "    rttm_i = pd.read_csv(rttm_dir + fn, delimiter=' ', names=rttm_header)\n",
    "    rttm_i = rttm_i.drop(columns=['Type', 'Channel ID', 'Orthography Field', 'Speaker Type', 'Confidence Score', 'Signal Lookahead Time'])\n",
    "    rttm = pd.concat([rttm, rttm_i])\n",
    "\n",
    "rttm['start_ms'] = rttm['start_ms'] * 1000\n",
    "rttm['duration_ms'] = rttm['duration_ms'] * 1000\n",
    "\n",
    "rttm"
   ]
  },
  {
   "cell_type": "code",
   "execution_count": 22,
   "metadata": {},
   "outputs": [
    {
     "data": {
      "image/png": "[encoded data removed]",
      "text/plain": [
       "<Figure size 640x480 with 1 Axes>"
      ]
     },
     "metadata": {},
     "output_type": "display_data"
    }
   ],
   "source": [
    "low_dur = rttm[rttm['duration_ms'] < (10 * 1000)]\n",
    "\n",
    "plt.hist(low_dur['duration_ms'] / 1000, bins=100)\n",
    "# plt.yscale('log')\n",
    "plt.show()"
   ]
  },
  {
   "cell_type": "code",
   "execution_count": 23,
   "metadata": {},
   "outputs": [],
   "source": [
    "import json\n",
    "\n",
    "subtitle_dir = '../data/raw/'"
   ]
  },
  {
   "cell_type": "code",
   "execution_count": 26,
   "metadata": {},
   "outputs": [],
   "source": [
    "sub_fns = [file for file in os.listdir(subtitle_dir) if file.endswith('.json3')]"
   ]
  },
  {
   "cell_type": "code",
   "execution_count": 30,
   "metadata": {},
   "outputs": [
    {
     "data": {
      "text/plain": [
       "{'en-ehkg1hFWq8A': 81,\n",
       " 'en-en-ehkg1hFWq8A': 81,\n",
       " 'en-orig': 111,\n",
       " 'en': 112,\n",
       " 'I': 2,\n",
       " '': 2}"
      ]
     },
     "execution_count": 30,
     "metadata": {},
     "output_type": "execute_result"
    }
   ],
   "source": [
    "types = [fn.split('.')[1] for fn in sub_fns]\n",
    "type_dict = {}\n",
    "\n",
    "for t in types:\n",
    "    if t not in type_dict:\n",
    "        type_dict[t] = 0\n",
    "    type_dict[t] += 1\n",
    "\n",
    "type_dict"
   ]
  },
  {
   "cell_type": "code",
   "execution_count": 31,
   "metadata": {},
   "outputs": [
    {
     "name": "stdout",
     "output_type": "stream",
     "text": [
      "This_Episode_is_A.I._Generated__Trash_Taste_#136_KOsR7CYcuaM.en-orig.json3\n",
      "This_Episode_is_A.I._Generated__Trash_Taste_#136_KOsR7CYcuaM.en.json3\n",
      "We_Dont_Know_How_To_Make_Friends...__Trash_Taste_#159_aTP4X03HWc4.en-orig.json3\n",
      "We_Dont_Know_How_To_Make_Friends...__Trash_Taste_#159_aTP4X03HWc4.en.json3\n"
     ]
    }
   ],
   "source": [
    "for fn in sub_fns:\n",
    "    if 'en' not in fn.split('.')[1]:\n",
    "        print(fn)"
   ]
  },
  {
   "cell_type": "code",
   "execution_count": 47,
   "metadata": {},
   "outputs": [],
   "source": [
    "eps = {}\n",
    "\n",
    "for fn in sub_fns:\n",
    "    ident = fn.split('.')[0]\n",
    "    if ident not in eps:\n",
    "        eps[ident] = []\n",
    "    eps[ident].append(fn)"
   ]
  },
  {
   "cell_type": "code",
   "execution_count": 48,
   "metadata": {},
   "outputs": [
    {
     "data": {
      "image/png": "[encoded data removed]",
      "text/plain": [
       "<Figure size 640x480 with 1 Axes>"
      ]
     },
     "metadata": {},
     "output_type": "display_data"
    }
   ],
   "source": [
    "sub_ns = [len(v) for v in eps.values()]\n",
    "\n",
    "plt.hist(sub_ns)\n",
    "plt.show()"
   ]
  },
  {
   "cell_type": "code",
   "execution_count": 51,
   "metadata": {},
   "outputs": [
    {
     "name": "stdout",
     "output_type": "stream",
     "text": [
      "Anime_Convention_Horror_Stories__Trash_Taste_#22_1t1lme5nGZE\n",
      "['Anime_Convention_Horror_Stories__Trash_Taste_#22_1t1lme5nGZE.en-ehkg1hFWq8A.json3', 'Anime_Convention_Horror_Stories__Trash_Taste_#22_1t1lme5nGZE.en-en-ehkg1hFWq8A.json3']\n",
      "Our_Trash_Taste_in_YouTubers__Trash_Taste_#26_og8CYLCRXeo\n",
      "['Our_Trash_Taste_in_YouTubers__Trash_Taste_#26_og8CYLCRXeo.en-ehkg1hFWq8A.json3', 'Our_Trash_Taste_in_YouTubers__Trash_Taste_#26_og8CYLCRXeo.en-en-ehkg1hFWq8A.json3']\n",
      "Roasting_our_WORST_Takes_on_Anime__Trash_Taste_#21_nGx-x0jrE2o\n",
      "['Roasting_our_WORST_Takes_on_Anime__Trash_Taste_#21_nGx-x0jrE2o.en-ehkg1hFWq8A.json3', 'Roasting_our_WORST_Takes_on_Anime__Trash_Taste_#21_nGx-x0jrE2o.en-en-ehkg1hFWq8A.json3']\n",
      "The_Internet_Kinda_Sucks_Right_Now__Trash_Taste_#7_SOOPOMAueUA\n",
      "['The_Internet_Kinda_Sucks_Right_Now__Trash_Taste_#7_SOOPOMAueUA.en-ehkg1hFWq8A.json3', 'The_Internet_Kinda_Sucks_Right_Now__Trash_Taste_#7_SOOPOMAueUA.en-en-ehkg1hFWq8A.json3']\n",
      "The_Japanese_Food_Youve_Never_Tried__Trash_Taste_#17_pxhJIRpLrPE\n",
      "['The_Japanese_Food_Youve_Never_Tried__Trash_Taste_#17_pxhJIRpLrPE.en-ehkg1hFWq8A.json3', 'The_Japanese_Food_Youve_Never_Tried__Trash_Taste_#17_pxhJIRpLrPE.en-en-ehkg1hFWq8A.json3']\n",
      "The_Most_BORING_Anime__Trash_Taste_#14_d-gHqu67j00\n",
      "['The_Most_BORING_Anime__Trash_Taste_#14_d-gHqu67j00.en-ehkg1hFWq8A.json3', 'The_Most_BORING_Anime__Trash_Taste_#14_d-gHqu67j00.en-en-ehkg1hFWq8A.json3']\n",
      "The_WORST_Fandoms_in_Anime__Trash_Taste_#16_Dbg8lT53Arg\n",
      "['The_WORST_Fandoms_in_Anime__Trash_Taste_#16_Dbg8lT53Arg.en-ehkg1hFWq8A.json3', 'The_WORST_Fandoms_in_Anime__Trash_Taste_#16_Dbg8lT53Arg.en-en-ehkg1hFWq8A.json3']\n",
      "The__Episode__Trash_Taste_#25_EmJDnyHDYuM\n",
      "['The__Episode__Trash_Taste_#25_EmJDnyHDYuM.en-ehkg1hFWq8A.json3', 'The__Episode__Trash_Taste_#25_EmJDnyHDYuM.en-en-ehkg1hFWq8A.json3']\n",
      "Were_Too_Addicted_To_The_Internet__Trash_Taste_#24_XDhyFh0DPOA\n",
      "['Were_Too_Addicted_To_The_Internet__Trash_Taste_#24_XDhyFh0DPOA.en-ehkg1hFWq8A.json3', 'Were_Too_Addicted_To_The_Internet__Trash_Taste_#24_XDhyFh0DPOA.en-en-ehkg1hFWq8A.json3']\n",
      "Weve_Fallen_Down_the_Vtuber_Rabbit_Hole__Trash_Taste_#18_EswetmwVvtQ\n",
      "['Weve_Fallen_Down_the_Vtuber_Rabbit_Hole__Trash_Taste_#18_EswetmwVvtQ.en-ehkg1hFWq8A.json3', 'Weve_Fallen_Down_the_Vtuber_Rabbit_Hole__Trash_Taste_#18_EswetmwVvtQ.en-en-ehkg1hFWq8A.json3']\n",
      "We_Dont_Know_How_to_Poop__Trash_Taste_#32_hdbTw4Oz45c\n",
      "['We_Dont_Know_How_to_Poop__Trash_Taste_#32_hdbTw4Oz45c.en-ehkg1hFWq8A.json3', 'We_Dont_Know_How_to_Poop__Trash_Taste_#32_hdbTw4Oz45c.en-en-ehkg1hFWq8A.json3']\n",
      "We_Need_a_Break_From_YouTube__Trash_Taste_#19_zyuwyIrw1pQ\n",
      "['We_Need_a_Break_From_YouTube__Trash_Taste_#19_zyuwyIrw1pQ.en-ehkg1hFWq8A.json3', 'We_Need_a_Break_From_YouTube__Trash_Taste_#19_zyuwyIrw1pQ.en-en-ehkg1hFWq8A.json3']\n"
     ]
    }
   ],
   "source": [
    "for ep, subs in eps.items():\n",
    "    found = False\n",
    "    for sub in subs:\n",
    "        if '.en.' in sub:\n",
    "            found = True\n",
    "            break\n",
    "    if not found:\n",
    "        print(ep)\n",
    "        print(subs)"
   ]
  }
 ],
 "metadata": {
  "kernelspec": {
   "display_name": ".venv",
   "language": "python",
   "name": "python3"
  },
  "language_info": {
   "codemirror_mode": {
    "name": "ipython",
    "version": 3
   },
   "file_extension": ".py",
   "mimetype": "text/x-python",
   "name": "python",
   "nbconvert_exporter": "python",
   "pygments_lexer": "ipython3",
   "version": "3.9.18"
  }
 },
 "nbformat": 4,
 "nbformat_minor": 2
}
