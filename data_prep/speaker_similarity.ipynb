{
 "cells": [
  {
   "cell_type": "code",
   "execution_count": 20,
   "metadata": {},
   "outputs": [],
   "source": [
    "import os\n",
    "from dotenv import load_dotenv\n",
    "\n",
    "load_dotenv()\n",
    "HF_TOKEN = os.getenv('HF')\n",
    "\n",
    "garnt_dir = '../voice_cloning/source_samples/garnt/'\n",
    "connor_dir = '../voice_cloning/source_samples/connor/'\n",
    "joey_dir = '../voice_cloning/source_samples/joey/'"
   ]
  },
  {
   "cell_type": "code",
   "execution_count": 23,
   "metadata": {},
   "outputs": [
    {
     "data": {
      "text/plain": [
       "['../voice_cloning/source_samples/garnt/garnt_long-01.wav',\n",
       " '../voice_cloning/source_samples/garnt/garnt_long-02.wav',\n",
       " '../voice_cloning/source_samples/garnt/garnt_long-03.wav',\n",
       " '../voice_cloning/source_samples/garnt/garnt_long-04.wav',\n",
       " '../voice_cloning/source_samples/connor/connor_long-01.wav',\n",
       " '../voice_cloning/source_samples/connor/connor_long-02.wav',\n",
       " '../voice_cloning/source_samples/connor/connor_long-03.wav',\n",
       " '../voice_cloning/source_samples/connor/connor_long-04.wav',\n",
       " '../voice_cloning/source_samples/joey/joey_clean.wav',\n",
       " '../voice_cloning/source_samples/joey/joey_long-01.wav',\n",
       " '../voice_cloning/source_samples/joey/joey_long-02.wav',\n",
       " '../voice_cloning/source_samples/joey/joey_long-03.wav',\n",
       " '../voice_cloning/source_samples/joey/joey_long-04.wav']"
      ]
     },
     "execution_count": 23,
     "metadata": {},
     "output_type": "execute_result"
    }
   ],
   "source": [
    "files = []\n",
    "for d in [garnt_dir, connor_dir, joey_dir]:\n",
    "    fnames = os.listdir(d)\n",
    "    for fname in fnames:\n",
    "        files.append(d + fname)\n",
    "files"
   ]
  },
  {
   "cell_type": "code",
   "execution_count": 19,
   "metadata": {},
   "outputs": [
    {
     "name": "stderr",
     "output_type": "stream",
     "text": [
      "Lightning automatically upgraded your loaded checkpoint from v1.2.7 to v2.1.2. To apply the upgrade to your files permanently, run `python -m pytorch_lightning.utilities.upgrade_checkpoint C:\\Users\\Paarth Tandon\\.cache\\torch\\pyannote\\models--pyannote--embedding\\snapshots\\c6335d8f1cd77b30084387468a6cf26fea90009b\\pytorch_model.bin`\n",
      "Lightning automatically upgraded your loaded checkpoint from v1.2.7 to v2.1.2. To apply the upgrade to your files permanently, run `python -m pytorch_lightning.utilities.upgrade_checkpoint C:\\Users\\Paarth Tandon\\.cache\\torch\\pyannote\\models--pyannote--embedding\\snapshots\\c6335d8f1cd77b30084387468a6cf26fea90009b\\pytorch_model.bin`\n"
     ]
    },
    {
     "name": "stdout",
     "output_type": "stream",
     "text": [
      "Model was trained with pyannote.audio 0.0.1, yours is 3.1.1. Bad things might happen unless you revert pyannote.audio to 0.x.\n",
      "Model was trained with torch 1.8.1+cu102, yours is 2.1.1+cu121. Bad things might happen unless you revert torch to 1.x.\n",
      "Model was trained with pyannote.audio 0.0.1, yours is 3.1.1. Bad things might happen unless you revert pyannote.audio to 0.x.\n",
      "Model was trained with torch 1.8.1+cu102, yours is 2.1.1+cu121. Bad things might happen unless you revert torch to 1.x.\n"
     ]
    }
   ],
   "source": [
    "from pyannote.audio import Model, Inference\n",
    "import torch\n",
    "\n",
    "model = Model.from_pretrained(\"pyannote/embedding\", use_auth_token=HF_TOKEN)\n",
    "model.to(torch.device(\"cuda\"))\n",
    "\n",
    "inference = Inference(model, window=\"whole\")"
   ]
  },
  {
   "cell_type": "code",
   "execution_count": 28,
   "metadata": {},
   "outputs": [],
   "source": [
    "embeddings = {}\n",
    "\n",
    "for fn in files:\n",
    "    embeddings[fn.split('/')[-1]] = inference(fn)"
   ]
  },
  {
   "cell_type": "code",
   "execution_count": 30,
   "metadata": {},
   "outputs": [
    {
     "data": {
      "text/plain": [
       "{('garnt_long-01.wav', 'garnt_long-02.wav'): 0.1755100271219069,\n",
       " ('garnt_long-01.wav', 'garnt_long-03.wav'): 0.20391639783433524,\n",
       " ('garnt_long-01.wav', 'garnt_long-04.wav'): 0.18413785010572714,\n",
       " ('garnt_long-01.wav', 'connor_long-01.wav'): 0.7935265705778961,\n",
       " ('garnt_long-01.wav', 'connor_long-02.wav'): 0.7678593279593166,\n",
       " ('garnt_long-01.wav', 'connor_long-03.wav'): 0.8190540198077412,\n",
       " ('garnt_long-01.wav', 'connor_long-04.wav'): 0.7906271090574547,\n",
       " ('garnt_long-01.wav', 'joey_clean.wav'): 0.7855187230171831,\n",
       " ('garnt_long-01.wav', 'joey_long-01.wav'): 0.7408602531344535,\n",
       " ('garnt_long-01.wav', 'joey_long-02.wav'): 0.7310572593714748,\n",
       " ('garnt_long-01.wav', 'joey_long-03.wav'): 0.7531499418213454,\n",
       " ('garnt_long-01.wav', 'joey_long-04.wav'): 0.7218972558652996,\n",
       " ('garnt_long-02.wav', 'garnt_long-01.wav'): 0.1755100271219069,\n",
       " ('garnt_long-02.wav', 'garnt_long-03.wav'): 0.18320437154620084,\n",
       " ('garnt_long-02.wav', 'garnt_long-04.wav'): 0.2192733932629125,\n",
       " ('garnt_long-02.wav', 'connor_long-01.wav'): 0.8441395504837919,\n",
       " ('garnt_long-02.wav', 'connor_long-02.wav'): 0.8346236527924217,\n",
       " ('garnt_long-02.wav', 'connor_long-03.wav'): 0.8542971743684371,\n",
       " ('garnt_long-02.wav', 'connor_long-04.wav'): 0.8428413125826858,\n",
       " ('garnt_long-02.wav', 'joey_clean.wav'): 0.8893636613673925,\n",
       " ('garnt_long-02.wav', 'joey_long-01.wav'): 0.8281904495032308,\n",
       " ('garnt_long-02.wav', 'joey_long-02.wav'): 0.8533269430326098,\n",
       " ('garnt_long-02.wav', 'joey_long-03.wav'): 0.8642370164871517,\n",
       " ('garnt_long-02.wav', 'joey_long-04.wav'): 0.841030621623603,\n",
       " ('garnt_long-03.wav', 'garnt_long-01.wav'): 0.20391639783433524,\n",
       " ('garnt_long-03.wav', 'garnt_long-02.wav'): 0.18320437154620084,\n",
       " ('garnt_long-03.wav', 'garnt_long-04.wav'): 0.19385862858108194,\n",
       " ('garnt_long-03.wav', 'connor_long-01.wav'): 0.7140943574906866,\n",
       " ('garnt_long-03.wav', 'connor_long-02.wav'): 0.6816195851666615,\n",
       " ('garnt_long-03.wav', 'connor_long-03.wav'): 0.7462649669838903,\n",
       " ('garnt_long-03.wav', 'connor_long-04.wav'): 0.7106162728098173,\n",
       " ('garnt_long-03.wav', 'joey_clean.wav'): 0.7387977385062829,\n",
       " ('garnt_long-03.wav', 'joey_long-01.wav'): 0.7652484813544218,\n",
       " ('garnt_long-03.wav', 'joey_long-02.wav'): 0.7779871578618417,\n",
       " ('garnt_long-03.wav', 'joey_long-03.wav'): 0.7866479850297509,\n",
       " ('garnt_long-03.wav', 'joey_long-04.wav'): 0.775149230992334,\n",
       " ('garnt_long-04.wav', 'garnt_long-01.wav'): 0.18413785010572714,\n",
       " ('garnt_long-04.wav', 'garnt_long-02.wav'): 0.2192733932629125,\n",
       " ('garnt_long-04.wav', 'garnt_long-03.wav'): 0.19385862858108194,\n",
       " ('garnt_long-04.wav', 'connor_long-01.wav'): 0.7034620622025333,\n",
       " ('garnt_long-04.wav', 'connor_long-02.wav'): 0.713946386250234,\n",
       " ('garnt_long-04.wav', 'connor_long-03.wav'): 0.7948191489773175,\n",
       " ('garnt_long-04.wav', 'connor_long-04.wav'): 0.7538508097836287,\n",
       " ('garnt_long-04.wav', 'joey_clean.wav'): 0.7708763848073806,\n",
       " ('garnt_long-04.wav', 'joey_long-01.wav'): 0.7373876929977327,\n",
       " ('garnt_long-04.wav', 'joey_long-02.wav'): 0.7463224311407108,\n",
       " ('garnt_long-04.wav', 'joey_long-03.wav'): 0.7976812222657178,\n",
       " ('garnt_long-04.wav', 'joey_long-04.wav'): 0.7697036010302284,\n",
       " ('connor_long-01.wav', 'garnt_long-01.wav'): 0.7935265705778961,\n",
       " ('connor_long-01.wav', 'garnt_long-02.wav'): 0.8441395504837919,\n",
       " ('connor_long-01.wav', 'garnt_long-03.wav'): 0.7140943574906866,\n",
       " ('connor_long-01.wav', 'garnt_long-04.wav'): 0.7034620622025333,\n",
       " ('connor_long-01.wav', 'connor_long-02.wav'): 0.17639717331059845,\n",
       " ('connor_long-01.wav', 'connor_long-03.wav'): 0.17698107795633478,\n",
       " ('connor_long-01.wav', 'connor_long-04.wav'): 0.16190592487103683,\n",
       " ('connor_long-01.wav', 'joey_clean.wav'): 0.8092951893842188,\n",
       " ('connor_long-01.wav', 'joey_long-01.wav'): 0.8048509638532334,\n",
       " ('connor_long-01.wav', 'joey_long-02.wav'): 0.7529292414894075,\n",
       " ('connor_long-01.wav', 'joey_long-03.wav'): 0.805104652240467,\n",
       " ('connor_long-01.wav', 'joey_long-04.wav'): 0.815502976620172,\n",
       " ('connor_long-02.wav', 'garnt_long-01.wav'): 0.7678593279593166,\n",
       " ('connor_long-02.wav', 'garnt_long-02.wav'): 0.8346236527924217,\n",
       " ('connor_long-02.wav', 'garnt_long-03.wav'): 0.6816195851666615,\n",
       " ('connor_long-02.wav', 'garnt_long-04.wav'): 0.713946386250234,\n",
       " ('connor_long-02.wav', 'connor_long-01.wav'): 0.17639717331059845,\n",
       " ('connor_long-02.wav', 'connor_long-03.wav'): 0.16411303432268842,\n",
       " ('connor_long-02.wav', 'connor_long-04.wav'): 0.14463778187962117,\n",
       " ('connor_long-02.wav', 'joey_clean.wav'): 0.7699237943608772,\n",
       " ('connor_long-02.wav', 'joey_long-01.wav'): 0.7535249841036726,\n",
       " ('connor_long-02.wav', 'joey_long-02.wav'): 0.7198446335175794,\n",
       " ('connor_long-02.wav', 'joey_long-03.wav'): 0.7975489862266161,\n",
       " ('connor_long-02.wav', 'joey_long-04.wav'): 0.7728186679965534,\n",
       " ('connor_long-03.wav', 'garnt_long-01.wav'): 0.8190540198077412,\n",
       " ('connor_long-03.wav', 'garnt_long-02.wav'): 0.8542971743684371,\n",
       " ('connor_long-03.wav', 'garnt_long-03.wav'): 0.7462649669838903,\n",
       " ('connor_long-03.wav', 'garnt_long-04.wav'): 0.7948191489773175,\n",
       " ('connor_long-03.wav', 'connor_long-01.wav'): 0.17698107795633478,\n",
       " ('connor_long-03.wav', 'connor_long-02.wav'): 0.16411303432268842,\n",
       " ('connor_long-03.wav', 'connor_long-04.wav'): 0.14941468248707757,\n",
       " ('connor_long-03.wav', 'joey_clean.wav'): 0.8414842998034794,\n",
       " ('connor_long-03.wav', 'joey_long-01.wav'): 0.8196262161511342,\n",
       " ('connor_long-03.wav', 'joey_long-02.wav'): 0.80428254426164,\n",
       " ('connor_long-03.wav', 'joey_long-03.wav'): 0.8081756437527318,\n",
       " ('connor_long-03.wav', 'joey_long-04.wav'): 0.8339574164630511,\n",
       " ('connor_long-04.wav', 'garnt_long-01.wav'): 0.7906271090574547,\n",
       " ('connor_long-04.wav', 'garnt_long-02.wav'): 0.8428413125826858,\n",
       " ('connor_long-04.wav', 'garnt_long-03.wav'): 0.7106162728098173,\n",
       " ('connor_long-04.wav', 'garnt_long-04.wav'): 0.7538508097836287,\n",
       " ('connor_long-04.wav', 'connor_long-01.wav'): 0.16190592487103683,\n",
       " ('connor_long-04.wav', 'connor_long-02.wav'): 0.14463778187962117,\n",
       " ('connor_long-04.wav', 'connor_long-03.wav'): 0.14941468248707757,\n",
       " ('connor_long-04.wav', 'joey_clean.wav'): 0.7555620074443705,\n",
       " ('connor_long-04.wav', 'joey_long-01.wav'): 0.7494011266682626,\n",
       " ('connor_long-04.wav', 'joey_long-02.wav'): 0.6925159124936161,\n",
       " ('connor_long-04.wav', 'joey_long-03.wav'): 0.7407115087885574,\n",
       " ('connor_long-04.wav', 'joey_long-04.wav'): 0.7454014683249062,\n",
       " ('joey_clean.wav', 'garnt_long-01.wav'): 0.7855187230171831,\n",
       " ('joey_clean.wav', 'garnt_long-02.wav'): 0.8893636613673925,\n",
       " ('joey_clean.wav', 'garnt_long-03.wav'): 0.7387977385062829,\n",
       " ('joey_clean.wav', 'garnt_long-04.wav'): 0.7708763848073806,\n",
       " ('joey_clean.wav', 'connor_long-01.wav'): 0.8092951893842188,\n",
       " ('joey_clean.wav', 'connor_long-02.wav'): 0.7699237943608772,\n",
       " ('joey_clean.wav', 'connor_long-03.wav'): 0.8414842998034794,\n",
       " ('joey_clean.wav', 'connor_long-04.wav'): 0.7555620074443705,\n",
       " ('joey_clean.wav', 'joey_long-01.wav'): 0.3193422779859436,\n",
       " ('joey_clean.wav', 'joey_long-02.wav'): 0.3390547334124223,\n",
       " ('joey_clean.wav', 'joey_long-03.wav'): 0.3098919393616988,\n",
       " ('joey_clean.wav', 'joey_long-04.wav'): 0.28241058182855605,\n",
       " ('joey_long-01.wav', 'garnt_long-01.wav'): 0.7408602531344535,\n",
       " ('joey_long-01.wav', 'garnt_long-02.wav'): 0.8281904495032308,\n",
       " ('joey_long-01.wav', 'garnt_long-03.wav'): 0.7652484813544218,\n",
       " ('joey_long-01.wav', 'garnt_long-04.wav'): 0.7373876929977327,\n",
       " ('joey_long-01.wav', 'connor_long-01.wav'): 0.8048509638532334,\n",
       " ('joey_long-01.wav', 'connor_long-02.wav'): 0.7535249841036726,\n",
       " ('joey_long-01.wav', 'connor_long-03.wav'): 0.8196262161511342,\n",
       " ('joey_long-01.wav', 'connor_long-04.wav'): 0.7494011266682626,\n",
       " ('joey_long-01.wav', 'joey_clean.wav'): 0.3193422779859436,\n",
       " ('joey_long-01.wav', 'joey_long-02.wav'): 0.21741472199111234,\n",
       " ('joey_long-01.wav', 'joey_long-03.wav'): 0.2530260781053978,\n",
       " ('joey_long-01.wav', 'joey_long-04.wav'): 0.1849276285273712,\n",
       " ('joey_long-02.wav', 'garnt_long-01.wav'): 0.7310572593714748,\n",
       " ('joey_long-02.wav', 'garnt_long-02.wav'): 0.8533269430326098,\n",
       " ('joey_long-02.wav', 'garnt_long-03.wav'): 0.7779871578618417,\n",
       " ('joey_long-02.wav', 'garnt_long-04.wav'): 0.7463224311407108,\n",
       " ('joey_long-02.wav', 'connor_long-01.wav'): 0.7529292414894075,\n",
       " ('joey_long-02.wav', 'connor_long-02.wav'): 0.7198446335175794,\n",
       " ('joey_long-02.wav', 'connor_long-03.wav'): 0.80428254426164,\n",
       " ('joey_long-02.wav', 'connor_long-04.wav'): 0.6925159124936161,\n",
       " ('joey_long-02.wav', 'joey_clean.wav'): 0.3390547334124223,\n",
       " ('joey_long-02.wav', 'joey_long-01.wav'): 0.21741472199111234,\n",
       " ('joey_long-02.wav', 'joey_long-03.wav'): 0.23078400215827566,\n",
       " ('joey_long-02.wav', 'joey_long-04.wav'): 0.17999997604887252,\n",
       " ('joey_long-03.wav', 'garnt_long-01.wav'): 0.7531499418213454,\n",
       " ('joey_long-03.wav', 'garnt_long-02.wav'): 0.8642370164871517,\n",
       " ('joey_long-03.wav', 'garnt_long-03.wav'): 0.7866479850297509,\n",
       " ('joey_long-03.wav', 'garnt_long-04.wav'): 0.7976812222657178,\n",
       " ('joey_long-03.wav', 'connor_long-01.wav'): 0.805104652240467,\n",
       " ('joey_long-03.wav', 'connor_long-02.wav'): 0.7975489862266161,\n",
       " ('joey_long-03.wav', 'connor_long-03.wav'): 0.8081756437527318,\n",
       " ('joey_long-03.wav', 'connor_long-04.wav'): 0.7407115087885574,\n",
       " ('joey_long-03.wav', 'joey_clean.wav'): 0.3098919393616988,\n",
       " ('joey_long-03.wav', 'joey_long-01.wav'): 0.2530260781053978,\n",
       " ('joey_long-03.wav', 'joey_long-02.wav'): 0.23078400215827566,\n",
       " ('joey_long-03.wav', 'joey_long-04.wav'): 0.15611983708973665,\n",
       " ('joey_long-04.wav', 'garnt_long-01.wav'): 0.7218972558652996,\n",
       " ('joey_long-04.wav', 'garnt_long-02.wav'): 0.841030621623603,\n",
       " ('joey_long-04.wav', 'garnt_long-03.wav'): 0.775149230992334,\n",
       " ('joey_long-04.wav', 'garnt_long-04.wav'): 0.7697036010302284,\n",
       " ('joey_long-04.wav', 'connor_long-01.wav'): 0.815502976620172,\n",
       " ('joey_long-04.wav', 'connor_long-02.wav'): 0.7728186679965534,\n",
       " ('joey_long-04.wav', 'connor_long-03.wav'): 0.8339574164630511,\n",
       " ('joey_long-04.wav', 'connor_long-04.wav'): 0.7454014683249062,\n",
       " ('joey_long-04.wav', 'joey_clean.wav'): 0.28241058182855605,\n",
       " ('joey_long-04.wav', 'joey_long-01.wav'): 0.1849276285273712,\n",
       " ('joey_long-04.wav', 'joey_long-02.wav'): 0.17999997604887252,\n",
       " ('joey_long-04.wav', 'joey_long-03.wav'): 0.15611983708973665}"
      ]
     },
     "execution_count": 30,
     "metadata": {},
     "output_type": "execute_result"
    }
   ],
   "source": [
    "from scipy.spatial.distance import cdist\n",
    "\n",
    "comparison_results = {}\n",
    "\n",
    "for file1, emb1 in embeddings.items():\n",
    "    for file2, emb2 in embeddings.items():\n",
    "        if file1 != file2:\n",
    "            cosine_distance = cdist([emb1], [emb2], metric=\"cosine\")[0,0]\n",
    "            comparison_results[(file1, file2)] = cosine_distance\n",
    "\n",
    "comparison_results"
   ]
  },
  {
   "cell_type": "code",
   "execution_count": 33,
   "metadata": {},
   "outputs": [
    {
     "data": {
      "text/plain": [
       "dict_keys([('garnt', 'garnt'), ('connor', 'garnt'), ('garnt', 'joey'), ('connor', 'connor'), ('connor', 'joey'), ('joey', 'joey')])"
      ]
     },
     "execution_count": 33,
     "metadata": {},
     "output_type": "execute_result"
    }
   ],
   "source": [
    "transformed_dict = {}\n",
    "for (file1, file2), distance in comparison_results.items():\n",
    "    # Extracting the names from the file names\n",
    "    name1 = file1.split('_')[0]\n",
    "    name2 = file2.split('_')[0]\n",
    "\n",
    "    # Creating a key for each unique name pair\n",
    "    name_pair = tuple(sorted([name1, name2]))\n",
    "\n",
    "    # Appending the distance to the list of distances for each name pair\n",
    "    if name_pair not in transformed_dict:\n",
    "        transformed_dict[name_pair] = []\n",
    "    transformed_dict[name_pair].append(distance)\n",
    "\n",
    "transformed_dict.keys()"
   ]
  },
  {
   "cell_type": "code",
   "execution_count": 35,
   "metadata": {},
   "outputs": [
    {
     "data": {
      "image/png": "[encoded data removed]",
      "text/plain": [
       "<Figure size 1000x600 with 1 Axes>"
      ]
     },
     "metadata": {},
     "output_type": "display_data"
    }
   ],
   "source": [
    "import numpy as np\n",
    "import matplotlib.pyplot as plt\n",
    "\n",
    "names = []\n",
    "means = []\n",
    "errors = []\n",
    "\n",
    "for name_pair, distances in transformed_dict.items():\n",
    "    names.append(' vs '.join(name_pair))\n",
    "    means.append(np.mean(distances))\n",
    "    errors.append(np.std(distances))\n",
    "\n",
    "# Plotting the bar graph with error bars\n",
    "plt.figure(figsize=(10, 6))\n",
    "plt.bar(names, means, yerr=errors, capsize=5)\n",
    "plt.xlabel('Name Pairs')\n",
    "plt.ylabel('Average Cosine Distance')\n",
    "plt.title('Average Cosine Distance Between Name Pairs with Error Bars')\n",
    "plt.xticks(rotation=45)\n",
    "plt.tight_layout()\n",
    "plt.show()"
   ]
  }
 ],
 "metadata": {
  "kernelspec": {
   "display_name": ".venv",
   "language": "python",
   "name": "python3"
  },
  "language_info": {
   "codemirror_mode": {
    "name": "ipython",
    "version": 3
   },
   "file_extension": ".py",
   "mimetype": "text/x-python",
   "name": "python",
   "nbconvert_exporter": "python",
   "pygments_lexer": "ipython3",
   "version": "3.9.18"
  }
 },
 "nbformat": 4,
 "nbformat_minor": 2
}
