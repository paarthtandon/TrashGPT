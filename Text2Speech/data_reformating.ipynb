{
 "cells": [
  {
   "cell_type": "code",
   "execution_count": 4,
   "id": "fc0b1dd6",
   "metadata": {},
   "outputs": [
    {
     "name": "stdout",
     "output_type": "stream",
     "text": [
      "['Animals_We_Could_Beat_in_a_Fight__Trash_Taste_91_ZWS2nFo7eEo.wav', 'Anime_Convention_Horror_Stories__Trash_Taste_22_1t1lme5nGZE.wav', 'Are_Online_Friends_REAL_Friends__Trash_Taste_28_Zk8QMtjnRj0.wav', 'Christmas_Horror_Stories__Trash_Taste_29_TBGk1TKhVeA.wav', 'CHRISTMAS_IS_CANCELED__Trash_Taste_131_0G4gYj446dA.wav', 'College_Horror_Stories__Trash_Taste_12_GMCxI2KJp3Y.wav', 'Cycling_is_HARD__Trash_Taste_117_bYIb-YaaCMY.wav', 'Defending_Our_WORST_Takes_Weve_Had__Trash_Taste_130_ZkVuuKR8fg0.wav', 'Dont_Watch_Anime_to_Learn_Japanese__Trash_Taste_6_dgZDICFDY5o.wav', 'Do_We_Drink_Too_Much__Trash_Taste_48_p6JEsEmtsds.wav', 'Garnt_got_married_AGAIN__Trash_Taste_140_sUcqffQxAeA.wav', 'GHOSTS_DONT_SCARE_US__Trash_Taste_72_-Xb2L4q1SW4.wav', 'Goodbye_Japan__Trash_Taste_102_pr-aIBYhxvw.wav', 'Goodbye_Trash_Taste_Season_1__Trash_Taste_54_fUF29xWCjXM.wav', 'How_to_NOT_Buy_Anime_Figures__Trash_Taste_4_DvMLVjPk2Io.wav', 'How_to_NOT_Flirt_with_a_YouTuber__Trash_Taste_37_8NtHmr0xOrM.wav', 'Japanese_Festivals_are_a_LIE__Trash_Taste_125_YMDN29K0SFM.wav', 'Japans_Earthquakes_Are_Terrifying__Trash_Taste_9_dKBT8Vh9yl8.wav', 'Japan_Is_A_Real_Life_Gacha_Game__Trash_Taste_31_jiK2jmTVF3A.wav', 'Last_Trash_Taste_of_2021__Trash_Taste_80_9EU-GkHqGAE.wav', 'Nice__Trash_Taste_69_JwpBZ80J0R4.wav', 'OUR_AWKWARD_FAN_STORIES__Trash_Taste_87_4tfKGg6Bpes.wav', 'OUR_BOY_GOT_MARRIED__Trash_Taste_107_6IE9eg0HoX8.wav', 'Our_Dark_Past_with_Anime_YouTube__Trash_Taste_10_0ei80_jPw4c.wav', 'Our_First_Trash_Taste_Convention_Experience__Trash_Taste_103_HW6mghCe6Wk.wav', 'Our_Lives_Are_a_Sitcom__Trash_Taste_92_XL6SuPw3kug.wav', 'Our_REAL_Thoughts_on_America__Trash_Taste_128_ZijUkzH6Dds.wav', 'Our_SECRET_Japan_Travel_Tips__Trash_Taste_97_HPQY80BYUHA.wav', 'Our_Terrible_Boomer_Opinions__Trash_Taste_62_398hQfZ5Ljg.wav', 'Our_Trash_Taste_In_TV__Trash_Taste_43_cuYit0asYhc.wav', 'Our_Trash_Taste_in_YouTubers__Trash_Taste_26_og8CYLCRXeo.wav', 'Our_WORST_Food_Takes_Yet__Trash_Taste_81_Z0xtAGKqAtg.wav', 'Proving_Were_Actually_an_Anime_Podcast__Trash_Taste_57_MhPRmgX_gAw.wav', 'Proving_We_Truly_Have_Trash_Taste__Trash_Taste_96_61rCpY7H7oo.wav', 'Quarantine_Nightmares__Trash_Taste_70_lh7bJa534AY.wav', 'Roasting_Our_Horrible_Anime_Tastes__Trash_Taste_34_PRR7LAis7-E.wav', 'Roasting_our_Terrible_Taste_in_Games__Trash_Taste_45_Wzc8_GZDSR0.wav', 'Roasting_our_Terrible_Taste_in_Movies__Trash_Taste_60_IHW3TauaL0E.wav', 'Roasting_our_Trash_Taste_in_Manga__Trash_Taste_61_6wLBE3b_3jU.wav', 'Roasting_Our_Trash_Taste_In_Music__Trash_Taste_89_c8ksAWojjag.wav', 'Roasting_Our_Trash_Taste_in_TV_Shows__Trash_Taste_126_FPUyRrcaJhc.wav', 'Roasting_our_WORST_Takes_on_Anime__Trash_Taste_21_nGx-x0jrE2o.wav', 'Secrets_of_Ludwigs_Chessboxing_Event__Trash_Taste_133_vkuUl20Py-o.wav', 'Summer_In_Japan_IS_HELL__Trash_Taste_63_8TGJf8l-XXU.wav', 'These_Are_Our_Last_Moments_Alive__Trash_Taste_135_opkJNNfw1Gc.wav', 'THE_ANIME_FIGURE_SPECIAL__Trash_Taste_79_mhWMch3v9WY.wav', 'The_Anime_That_Shaped_Our_Childhoods__Trash_Taste_3_5d3nhRaMBhI.wav', 'The_Biggest_Scandal_in_Anime_History__Trash_Taste_59_S-CSPYo0Nxo.wav', 'THE_BOIZ_ARE_GOING_ON_TOUR__Trash_Taste_112_UZEK5f6ejW8.wav', 'The_Boys_Went_Snowboarding__Trash_Taste_85_TYgUS6j0avo.wav', 'The_Dream_Episode__Trash_Taste_88_ktpnsG6pvA8.wav', 'The_Internet_Kinda_Sucks_Right_Now__Trash_Taste_7_SOOPOMAueUA.wav', 'The_Japanese_Food_Youve_Never_Tried__Trash_Taste_17_pxhJIRpLrPE.wav', 'The_Metaverse_was_a_Mistake__Trash_Taste_93_pjHme1fdS3M.wav', 'The_Most_BORING_Anime__Trash_Taste_14_d-gHqu67j00.wav', 'The_REAL_Japanese_Nightlife_Experience__Trash_Taste_15_5LBYddiLLP4.wav', 'The_Struggles_of_Life_in_Japan__Trash_Taste_2_3E0JIBNlmco.wav', 'THE_TRASHIEST_SHOWER_THOUGHTS__Trash_Taste_123_xgAGDe7zK-A.wav', 'The_Worst_Anime_Podcast_Has_Arrived__Trash_Taste_1_uNDjVH5qiyM.wav', 'The_WORST_Fandoms_in_Anime__Trash_Taste_16_Dbg8lT53Arg.wav', 'The_WORST_Japanese_Convenience_Store_Food__Trash_Taste_40_vrB4p-n1Ta8.wav', 'The_Worst_Things_You_Can_Do_in_Japan__Trash_Taste_49_7vIbh4yLxtA.wav', 'The_YouTuber_Life_is_CURSED__Trash_Taste_41_ESTvga3alco.wav', 'The__Episode__Trash_Taste_25_EmJDnyHDYuM.wav', 'THINGS_THAT_TERRIFY_US__Trash_Taste_39_6AILeSMxtiU.wav', 'This_Episode_is_A.I._Generated__Trash_Taste_136_KOsR7CYcuaM.wav', 'This_Is_Why_Real_Men_Cry__Trash_Taste_94_RBKHSHEEgdU.wav', 'Trash_Taste_2022_Review__Trash_Taste_132_KfYgSxmPW3U.wav', 'Trash_Taste_Tech_Tips__Trash_Taste_Episode_77_auxlYK_n2zw.wav', 'Uncovering_Secrets_Behind_Anime_Piracy__Trash_Taste_13_sUlzvH1R6ng.wav', 'Wedding_Planning_is_an_Absolute_Nightmare__Trash_Taste_98_192Qd9oP84g.wav', 'Welcome_to_Trash_Taste_Season_2__Trash_Taste_55_vFbY_xLhLd0.wav', 'Were_Still_an_Anime_Podcast__Trash_Taste_86_g2v_83FFrSc.wav', 'Were_Too_Addicted_to_Gacha_Games__Trash_Taste_33_38_9XUFTFzs.wav', 'Were_Too_Addicted_To_The_Internet__Trash_Taste_24_XDhyFh0DPOA.wav', 'Weve_Fallen_Down_the_Vtuber_Rabbit_Hole__Trash_Taste_18_EswetmwVvtQ.wav', 'Weve_Had_Enough_of_Japan__Trash_Taste_51_1gHPFmjj28A.wav', 'We_Actually_Watched_Anime__Trash_Taste_138_A1L_G0zZG6s.wav', 'WE_ALMOST_DIED__Trash_Taste_82_1oyrYYqQWWw.wav', 'We_Are_NOT_Alphas__Trash_Taste_121_UUnX3gdpTSw.wav', 'WE_ARE_PRIVILEGED__Trash_Taste_71_xqP3WXFYiGc.wav', 'We_Are_The_WORST_Movie_Reviewers__Trash_Taste_115_4o5TXDOjeD8.wav', 'We_CANNOT_Stop_Arguing__Trash_Taste_65_7ciUUFK3K14.wav', 'We_Cant_Stop_Giving_Bad_Opinions__Trash_Taste_52_Pa_KjzmZgBk.wav', 'We_Dont_Know_How_to_Poop__Trash_Taste_32_hdbTw4Oz45c.wav', 'We_Dont_Understand_Anime_Games__Trash_Taste_8_fR7FQv8PaVk.wav', 'We_Dont_Understand_Live_Streamers__Trash_Taste_47_OpAHNHFfWH4.wav', 'We_Dont_Understand_Public_Holidays__Trash_Taste_76_pWdHBCvah1Y.wav', 'WE_DONT_UNDERSTAND_SPORTS__Trash_Taste_90_5v2aXluO5fc.wav', 'We_Got_SCAMMED__Trash_Taste_66_pPmJeqnnxQI.wav', 'We_HATE_Being_Tourists__Trash_Taste_134_u5PRvnuNltI.wav', 'We_HATE_Celebrities__Trash_Taste_119_oMgQoMNXdn8.wav', 'We_Hate_Our_Fans__Trash_Taste_64_oWHbkpJKwxY.wav', 'We_Have_Trash_Taste_in_Manga__Trash_Taste_35_FzbCKTMqlWM.wav', 'WE_LIVE_IN_A_SOCIETY__Trash_Taste_75_Jr5xSmrSqyA.wav', 'We_Need_a_Break_From_YouTube__Trash_Taste_19_zyuwyIrw1pQ.wav', 'We_Read_The_WORST__Doujins__Trash_Taste_53_9Dl8PbibmBI.wav', 'We_Survived_a_MASSIVE_Earthquake_in_Japan__Trash_Taste_95_wi9fRiR4xWk.wav', 'We_Terrified_Our_Parents_in_Japan__Trash_Taste_139_yuGD4AvlbcM.wav', 'WE_WILL_NEVER_UNDERSTAND_JAPANESE__Trash_Taste_73_duEihBy6ujg.wav', 'Why_We_Will_NEVER_Have_Kids__Trash_Taste_129_HYitcJenxMA.wav']\n"
     ]
    }
   ],
   "source": [
    "import os\n",
    "import sys\n",
    "\n",
    "path2folder = '/data/'\n",
    "path2text = '../annotated_w_names/'\n",
    "path2audio = '../data/'\n",
    "speaker = 'joey'\n",
    "generate_text = 'meow'\n",
    "txtFiles = os.listdir(path2text)\n",
    "audioFiles = os.listdir(path2audio)\n",
    "# restrict to .wav files\n",
    "audioFiles = [f for f in audioFiles if f[-4:] == '.wav']\n",
    "print(audioFiles)\n",
    "\n",
    "#filter text data\n"
   ]
  }
 ],
 "metadata": {
  "kernelspec": {
   "display_name": "bayesian",
   "language": "python",
   "name": "python3"
  },
  "language_info": {
   "codemirror_mode": {
    "name": "ipython",
    "version": 3
   },
   "file_extension": ".py",
   "mimetype": "text/x-python",
   "name": "python",
   "nbconvert_exporter": "python",
   "pygments_lexer": "ipython3",
   "version": "3.9.12"
  },
  "vscode": {
   "interpreter": {
    "hash": "a62c6d4d0700a7a0a21d16243cb869bd2c245d9324afe92cf62c0178c2d7355e"
   }
  }
 },
 "nbformat": 4,
 "nbformat_minor": 5
}
