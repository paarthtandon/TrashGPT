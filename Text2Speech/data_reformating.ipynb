{
 "cells": [
  {
   "cell_type": "code",
   "execution_count": 1,
   "id": "fc0b1dd6",
   "metadata": {},
   "outputs": [
    {
     "name": "stdout",
     "output_type": "stream",
     "text": [
      "Number of files:  56\n"
     ]
    }
   ],
   "source": [
    "import os\n",
    "import sys\n",
    "import json\n",
    "\n",
    "path2folder = '/data/'\n",
    "path2text = '../annotated_w_names/'\n",
    "path2audio = '../data/'\n",
    "txtFiles = os.listdir(path2text)\n",
    "audioFiles = os.listdir(path2audio)\n",
    "# restrict to .wav files\n",
    "audioFiles = [f for f in audioFiles if f[-4:] == '.wav']\n",
    "#filter text data\n",
    "tempSet = set()\n",
    "for elem in audioFiles:\n",
    "    tempSet.add(elem[:-4])\n",
    "txtFiles = [f for f in txtFiles if f.split('.')[0] in tempSet and f.split('.')[1][0:6] == 'en']\n",
    "#filter audio to match text\n",
    "tempSet = set()\n",
    "for elem in txtFiles:\n",
    "    tempSet.add(elem.split('.')[0])\n",
    "audioFiles = [f for f in audioFiles if f[:-4] in tempSet]\n",
    "# sort\n",
    "txtFiles.sort()\n",
    "audioFiles.sort()\n",
    "# check\n",
    "for i in range(len(txtFiles)):\n",
    "    assert txtFiles[i].split('.')[0] == audioFiles[i][:-4]\n",
    "print('Number of files: ', len(txtFiles))"
   ]
  },
  {
   "cell_type": "code",
   "execution_count": 58,
   "id": "f06cc029",
   "metadata": {},
   "outputs": [],
   "source": [
    "# clean text\n",
    "# for elem in txtFiles:\n",
    "#     with open(path2text + elem, 'r') as f:\n",
    "#         lines = f.readlines()\n",
    "#     for i in range(len(lines)):\n",
    "#         if lines[i][-2] != '>':\n",
    "#             lines[i] = lines[i][:-1] + ' '\n",
    "#     bigstring = ''.join(lines)\n",
    "#     f = open(path2text + elem, 'w')\n",
    "#     f.truncate(0)\n",
    "#     f.write(bigstring)\n",
    "#     f.close()"
   ]
  },
  {
   "cell_type": "code",
   "execution_count": 2,
   "id": "1e391c06",
   "metadata": {},
   "outputs": [],
   "source": [
    "# parse text data and map text to speaker\n",
    "\n",
    "def parseLine(line):\n",
    "    line = line[1:-1]\n",
    "    line = line.split('>')\n",
    "    speaker = line[0]\n",
    "    text = line[1].split('<')[0]\n",
    "    return speaker, text.strip()\n",
    "data = {}\n",
    "for elem in txtFiles:\n",
    "    data[elem] = {}\n",
    "    with open(path2text + elem, 'r') as f:\n",
    "        lines = f.readlines()\n",
    "        for line in lines:\n",
    "            speaker, text = parseLine(line)\n",
    "            data[elem][text] = speaker"
   ]
  },
  {
   "cell_type": "code",
   "execution_count": 4,
   "id": "b42a85e3",
   "metadata": {},
   "outputs": [
    {
     "name": "stdout",
     "output_type": "stream",
     "text": [
      "{'tStartMs': 80, 'dDurationMs': 3200, 'wWinId': 1, 'segs': [{'utf8': 'stuck', 'acAsrConf': 255}, {'utf8': ' in', 'tOffsetMs': 319, 'acAsrConf': 255}, {'utf8': ' the', 'tOffsetMs': 400, 'acAsrConf': 255}, {'utf8': ' north', 'tOffsetMs': 560, 'acAsrConf': 255}, {'utf8': ' hold', 'tOffsetMs': 1040, 'acAsrConf': 255}, {'utf8': ' me', 'tOffsetMs': 1280, 'acAsrConf': 255}, {'utf8': ' up', 'tOffsetMs': 1440, 'acAsrConf': 255}, {'utf8': ' bro', 'tOffsetMs': 1519, 'acAsrConf': 255}, {'utf8': ' step', 'tOffsetMs': 1840, 'acAsrConf': 255}]}\n",
      "\n",
      "\n",
      "joey\n"
     ]
    }
   ],
   "source": [
    "\n",
    "path2json = '../transcripts/'\n",
    "epdict = json.load(open(path2json + txtFiles[0].split('.')[0] + '.en.json3'))\n",
    "def get_sentence(event):\n",
    "    txt = ''\n",
    "    for elem in event['segs']:\n",
    "        txt += elem['utf8']\n",
    "    return txt\n",
    "print(epdict['events'][1])\n",
    "\n",
    "print(get_sentence(epdict['events'][2]))\n",
    "\n",
    "print(data[txtFiles[0]][get_sentence(epdict['events'][1])])\n",
    "\n",
    "\n",
    "\n"
   ]
  }
 ],
 "metadata": {
  "kernelspec": {
   "display_name": "bayesian",
   "language": "python",
   "name": "python3"
  },
  "language_info": {
   "codemirror_mode": {
    "name": "ipython",
    "version": 3
   },
   "file_extension": ".py",
   "mimetype": "text/x-python",
   "name": "python",
   "nbconvert_exporter": "python",
   "pygments_lexer": "ipython3",
   "version": "3.9.12"
  },
  "vscode": {
   "interpreter": {
    "hash": "a62c6d4d0700a7a0a21d16243cb869bd2c245d9324afe92cf62c0178c2d7355e"
   }
  }
 },
 "nbformat": 4,
 "nbformat_minor": 5
}
