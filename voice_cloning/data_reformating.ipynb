{
 "cells": [
  {
   "cell_type": "code",
   "execution_count": 1,
   "id": "fc0b1dd6",
   "metadata": {},
   "outputs": [
    {
     "name": "stdout",
     "output_type": "stream",
     "text": [
      "Number of files:  56\n"
     ]
    }
   ],
   "source": [
    "import os\n",
    "import sys\n",
    "import json\n",
    "\n",
    "path2folder = '/data/'\n",
    "path2text = '../annotated_w_names/'\n",
    "path2audio = '../data/'\n",
    "txtFiles = os.listdir(path2text)\n",
    "audioFiles = os.listdir(path2audio)\n",
    "# restrict to .wav files\n",
    "audioFiles = [f for f in audioFiles if f[-4:] == '.wav']\n",
    "#filter text data\n",
    "tempSet = set()\n",
    "for elem in audioFiles:\n",
    "    tempSet.add(elem[:-4])\n",
    "txtFiles = [f for f in txtFiles if f.split('.')[0] in tempSet and f.split('.')[1][0:6] == 'en']\n",
    "#filter audio to match text\n",
    "tempSet = set()\n",
    "for elem in txtFiles:\n",
    "    tempSet.add(elem.split('.')[0])\n",
    "audioFiles = [f for f in audioFiles if f[:-4] in tempSet]\n",
    "# sort\n",
    "txtFiles.sort()\n",
    "audioFiles.sort()\n",
    "# check\n",
    "for i in range(len(txtFiles)):\n",
    "    assert txtFiles[i].split('.')[0] == audioFiles[i][:-4]\n",
    "print('Number of files: ', len(txtFiles))"
   ]
  },
  {
   "cell_type": "code",
   "execution_count": 2,
   "id": "f06cc029",
   "metadata": {},
   "outputs": [],
   "source": [
    "# clean text\n",
    "# for elem in txtFiles:\n",
    "#     with open(path2text + elem, 'r') as f:\n",
    "#         lines = f.readlines()\n",
    "#     for i in range(len(lines)):\n",
    "#         if lines[i][-2] != '>':\n",
    "#             lines[i] = lines[i][:-1] + ' '\n",
    "#     bigstring = ''.join(lines)\n",
    "#     f = open(path2text + elem, 'w')\n",
    "#     f.truncate(0)\n",
    "#     f.write(bigstring)\n",
    "#     f.close()"
   ]
  },
  {
   "cell_type": "code",
   "execution_count": 3,
   "id": "1e391c06",
   "metadata": {},
   "outputs": [],
   "source": [
    "# parse text data and map text to speaker\n",
    "\n",
    "def parseLine(line):\n",
    "    line = line[1:-1]\n",
    "    line = line.split('>')\n",
    "    speaker = line[0]\n",
    "    text = line[1].split('<')[0]\n",
    "    return speaker, text.strip()\n",
    "data = {}\n",
    "for elem in txtFiles:\n",
    "    data[elem] = {}\n",
    "    with open(path2text + elem, 'r') as f:\n",
    "        lines = f.readlines()\n",
    "        for line in lines:\n",
    "            speaker, text = parseLine(line)\n",
    "            data[elem][text] = speaker"
   ]
  },
  {
   "cell_type": "code",
   "execution_count": 5,
   "id": "b42a85e3",
   "metadata": {},
   "outputs": [],
   "source": [
    "# takes an audio clip, and clips it, names it, and saves it for use in the TTS fine-tuning\n",
    "def clipAudio(path2audio, path2save, start, end, name):\n",
    "    os.system('ffmpeg -i ' + path2audio + ' -ss ' + str(start) + ' -to ' + str(end) + ' -c copy ' + path2save + name + '.wav')\n",
    "\n",
    "path2json = '../transcripts/'\n",
    "epdict = json.load(open(path2json + txtFiles[0].split('.')[0] + '.en.json3'))\n",
    "def get_sentence(event):\n",
    "    txt = ''\n",
    "    try:\n",
    "        for elem in event['segs']:\n",
    "            txt += elem['utf8']\n",
    "    except:\n",
    "        pass\n",
    "    return txt\n",
    "joeyiter = 1\n",
    "joeytxt = open('data/joey/metadata.txt', 'w')\n",
    "connoriter = 1\n",
    "connortxt = open('data/connor/metadata.txt', 'w')\n",
    "garntiter = 1\n",
    "garnttxt = open('data/garnt/metadata.txt', 'w')\n",
    "for elem in txtFiles:\n",
    "    epdict = json.load(open(path2json + elem.split('.')[0] + '.en.json3'))\n",
    "    for i in range(len(epdict['events'])):\n",
    "        txt = get_sentence(epdict['events'][i])\n",
    "        if len(txt) > 3:\n",
    "            try:\n",
    "                speaker = data[elem][txt]\n",
    "                starttime = epdict['events'][i]['tStartMs']/1000\n",
    "                endtime = epdict['events'][i]['dDurationMs']/1000 + starttime\n",
    "            except:\n",
    "                print('Error: ', epdict['events'][i])\n",
    "                continue\n",
    "            if speaker == 'joey':\n",
    "                clipAudio(path2audio + elem.split('.')[0] + '.wav', 'data/joey/wavs/', starttime, endtime, f'audio{joeyiter}')\n",
    "                joeytxt.write(f'audio{joeyiter}|{txt}\\n')\n",
    "                joeyiter += 1\n",
    "            elif speaker == 'connor':\n",
    "                clipAudio(path2audio + elem.split('.')[0] + '.wav', 'data/connor/wavs/', starttime, endtime, f'audio{connoriter}')\n",
    "                connortxt.write(f'audio{connoriter}|{txt}\\n')\n",
    "                connoriter += 1\n",
    "            elif speaker == 'garnt':\n",
    "                clipAudio(path2audio + elem.split('.')[0] + '.wav', 'data/garnt/wavs/', starttime, endtime, f'audio{garntiter}')\n",
    "                garnttxt.write(f'audio{garntiter}|{txt}\\n')\n",
    "                garntiter += 1\n",
    "garnttxt.close()\n",
    "connortxt.close()\n",
    "joeytxt.close()\n",
    "\n"
   ]
  }
 ],
 "metadata": {
  "kernelspec": {
   "display_name": "bayesian",
   "language": "python",
   "name": "python3"
  },
  "language_info": {
   "codemirror_mode": {
    "name": "ipython",
    "version": 3
   },
   "file_extension": ".py",
   "mimetype": "text/x-python",
   "name": "python",
   "nbconvert_exporter": "python",
   "pygments_lexer": "ipython3",
   "version": "3.9.12"
  },
  "vscode": {
   "interpreter": {
    "hash": "a62c6d4d0700a7a0a21d16243cb869bd2c245d9324afe92cf62c0178c2d7355e"
   }
  }
 },
 "nbformat": 4,
 "nbformat_minor": 5
}
